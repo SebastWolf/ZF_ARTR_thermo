{
 "cells": [
  {
   "cell_type": "code",
   "execution_count": 1,
   "metadata": {},
   "outputs": [
    {
     "data": {
      "text/plain": [
       "<module 'utilities' from '/Users/wolf/Desktop/sampler gibbs Ising/functions/utilities.pyc'>"
      ]
     },
     "execution_count": 1,
     "metadata": {},
     "output_type": "execute_result"
    }
   ],
   "source": [
    "\n",
    "# Modules\n",
    "import numpy as np\n",
    "import matplotlib\n",
    "%matplotlib inline\n",
    "import matplotlib.pyplot as plt\n",
    "from mpl_toolkits.mplot3d import Axes3D\n",
    "import sys,os\n",
    "import pickle # pour sauvegarder des fichers, en binaire\n",
    "from scipy.io import loadmat,savemat\n",
    "from random import random\n",
    "import math\n",
    "import itertools\n",
    "import operator\n",
    "\n",
    "# Importation des codes\n",
    "sys.path.append('/Users/wolf/Desktop/sampler gibbs Ising/functions/') # the path where the folder PGM is.\n",
    "try:\n",
    "    import bm\n",
    "except:\n",
    "    print 'Compiling cy_utilities first'\n",
    "    curr_dir = os.getcwd()\n",
    "    os.chdir('functions/')\n",
    "    !python setup.py build_ext --inplace\n",
    "    print 'Compilation done'\n",
    "    os.chdir(curr_dir)\n",
    "\n",
    "import layer,pgm, utilities\n",
    "reload(bm); \n",
    "reload(layer); \n",
    "reload(pgm)\n",
    "reload(utilities)\n",
    "\n"
   ]
  }
 ],
 "metadata": {
  "kernelspec": {
   "display_name": "Python 2",
   "language": "python",
   "name": "python2"
  },
  "language_info": {
   "codemirror_mode": {
    "name": "ipython",
    "version": 2
   },
   "file_extension": ".py",
   "mimetype": "text/x-python",
   "name": "python",
   "nbconvert_exporter": "python",
   "pygments_lexer": "ipython2",
   "version": "2.7.16"
  }
 },
 "nbformat": 4,
 "nbformat_minor": 2
}
