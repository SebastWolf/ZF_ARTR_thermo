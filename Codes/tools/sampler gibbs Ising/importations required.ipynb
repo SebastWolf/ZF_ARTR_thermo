{
 "cells": [
  {
   "cell_type": "code",
   "execution_count": 3,
   "metadata": {},
   "outputs": [
    {
     "name": "stdout",
     "output_type": "stream",
     "text": [
      "1\n",
      "0\n",
      "/Users/wolf/Documents/Project/Neurofish/Programs/Sebastien/HBO 3.0/Elife paper codes/copie/Elife share/Elife submission/Retour referee 1/cross validation/data for cross validation/T18_Fish 12/\n",
      "/Users/wolf/Documents/Project/Neurofish/Programs/Sebastien/HBO 3.0/Elife paper codes/copie/Elife share/Elife submission/Retour referee 1/cross validation/data for cross validation/T18_Fish 12/\n",
      "/Users/wolf/Documents/Project/Neurofish/Programs/Sebastien/HBO 3.0/Elife paper codes/copie/Elife share/Elife submission/Retour referee 1/cross validation/data for cross validation/T18_Fish 12/\n",
      "[[1 1 1 ... 0 0 0]\n",
      " [0 1 1 ... 0 0 0]\n",
      " [0 1 1 ... 0 0 0]\n",
      " ...\n",
      " [1 0 1 ... 0 0 0]\n",
      " [1 0 0 ... 0 0 0]\n",
      " [0 0 1 ... 0 0 0]]\n",
      "(4682, 326)\n"
     ]
    },
    {
     "data": {
      "image/png": "[encoded data removed]",
      "text/plain": [
       "<Figure size 432x288 with 1 Axes>"
      ]
     },
     "metadata": {
      "needs_background": "light"
     },
     "output_type": "display_data"
    },
    {
     "data": {
      "image/png": "[encoded data removed]",
      "text/plain": [
       "<Figure size 432x288 with 1 Axes>"
      ]
     },
     "metadata": {
      "needs_background": "light"
     },
     "output_type": "display_data"
    },
    {
     "name": "stdout",
     "output_type": "stream",
     "text": [
      "(326, 326)\n"
     ]
    },
    {
     "ename": "NameError",
     "evalue": "name 'data_BM' is not defined",
     "output_type": "error",
     "traceback": [
      "\u001b[0;31m---------------------------------------------------------------------------\u001b[0m",
      "\u001b[0;31mNameError\u001b[0m                                 Traceback (most recent call last)",
      "\u001b[0;32m<ipython-input-3-a361febd7475>\u001b[0m in \u001b[0;36m<module>\u001b[0;34m()\u001b[0m\n\u001b[1;32m     91\u001b[0m \u001b[0;34m\u001b[0m\u001b[0m\n\u001b[1;32m     92\u001b[0m         \u001b[0;31m#data_BM = BM.gen_data(Nthermalize=1000,Nchains=5,Lchains=10000)\u001b[0m\u001b[0;34m\u001b[0m\u001b[0;34m\u001b[0m\u001b[0m\n\u001b[0;32m---> 93\u001b[0;31m         \u001b[0mworkspace_matlab2\u001b[0m \u001b[0;34m=\u001b[0m \u001b[0;34m{\u001b[0m\u001b[0;34m'data_BM'\u001b[0m\u001b[0;34m:\u001b[0m\u001b[0mdata_BM\u001b[0m \u001b[0;34m}\u001b[0m\u001b[0;34m\u001b[0m\u001b[0m\n\u001b[0m\u001b[1;32m     94\u001b[0m \u001b[0;34m\u001b[0m\u001b[0m\n",
      "\u001b[0;31mNameError\u001b[0m: name 'data_BM' is not defined"
     ]
    },
    {
     "data": {
      "image/png": "[encoded data removed]",
      "text/plain": [
       "<Figure size 432x288 with 2 Axes>"
      ]
     },
     "metadata": {
      "needs_background": "light"
     },
     "output_type": "display_data"
    }
   ],
   "source": [
    "\n",
    "# Modules\n",
    "import numpy as np\n",
    "import matplotlib\n",
    "%matplotlib inline\n",
    "import matplotlib.pyplot as plt\n",
    "from mpl_toolkits.mplot3d import Axes3D\n",
    "import sys,os\n",
    "import pickle # pour sauvegarder des fichers, en binaire\n",
    "from scipy.io import loadmat,savemat\n",
    "from random import random\n",
    "import math\n",
    "import itertools\n",
    "import operator\n",
    "\n",
    "# Importation des codes\n",
    "sys.path.append('/Users/wolf/Desktop/sampler gibbs Ising/functions/') # the path where the folder PGM is.\n",
    "try:\n",
    "    import bm\n",
    "except:\n",
    "    print 'Compiling cy_utilities first'\n",
    "    curr_dir = os.getcwd()\n",
    "    os.chdir('functions/')\n",
    "    !python setup.py build_ext --inplace\n",
    "    print 'Compilation done'\n",
    "    os.chdir(curr_dir)\n",
    "\n",
    "import layer,pgm, utilities\n",
    "reload(bm); \n",
    "reload(layer); \n",
    "reload(pgm)\n",
    "reload(utilities)\n",
    "\n",
    "path_data_origin = '/Users/wolf/Documents/Project/Neurofish/Programs/Sebastien/HBO 3.0/Elife paper codes/copie/Elife share/Elife submission/Retour referee 1/cross validation/data for cross validation/'\n",
    "dataset_address = ['T18_Fish 12/']\n",
    "print len(dataset_address)\n",
    "\n",
    "\n",
    "for i in range(0, len(dataset_address)):\n",
    "        print i\n",
    "        data_path = path_data_origin + dataset_address[i]\n",
    "        path_inference = data_path\n",
    "\n",
    "        print data_path\n",
    "        dataset = 'A_cor_rh23_75'\n",
    "        dataset_dict = {'A_cor_rh23_75' : 'A_cor_rh23_75'}\n",
    "\n",
    "        print data_path\n",
    "        data_original = np.asarray(loadmat(data_path + '{dataset}.mat'.format(dataset=dataset_dict[dataset]))[dataset],dtype='int')\n",
    "        nameref_data = dataset\n",
    "        print data_path\n",
    "        print data_original\n",
    "\n",
    "    #    plt.imshow(data_original,aspect='auto',interpolation='none')\n",
    "        b = data_original.shape\n",
    "        print b\n",
    "        nv = b[1]\n",
    "\n",
    "        environment_J = loadmat(data_path + 'ACE_short/A_cor_rh23_75_short/J_MC.mat')\n",
    "        J = environment_J['J_MC']\n",
    "        environment_h = loadmat(data_path + 'ACE_short/A_cor_rh23_75_short/h_MC.mat')\n",
    "        h = environment_h['h_MC']\n",
    "\n",
    "        plt.hist(h.flatten()); plt.show()\n",
    "        plt.hist(J.flatten()); plt.show()\n",
    "\n",
    "        print J.shape\n",
    "\n",
    "        mu = data_original.mean(0)\n",
    "        BM = bm.BM(N=nv,nature='Bernoulli')\n",
    "        BM.layer.fields = np.asarray(h[:,0],dtype='float',order='c').copy()\n",
    "        BM.layer.fields0 = np.log(mu/(1-mu+1e-4))\n",
    "        BM.layer.couplings = np.asarray(J,dtype='float',order='c').copy()\n",
    "        plt.imshow( BM.layer.couplings )\n",
    "\n",
    "        mu_data = data_original.mean(0)\n",
    "        C_data = np.corrcoef(data_original.T)\n",
    "\n",
    "        data_synth = BM.gen_data(Nchains=100, Lchains=1, Nthermalize=5000, Nstep=10, N_PT=1)\n",
    "\n",
    "        mu_model = data_synth.mean(0)\n",
    "        C_model = np.corrcoef(data_synth.T)\n",
    "        plt.clf()\n",
    "        plt.subplot(2,1,1)\n",
    "        plt.scatter(mu_data,mu_model);\n",
    "\n",
    "        plt.subplot(2,1,2)\n",
    "        plt.scatter(C_data,C_model);\n",
    "\n",
    "        plt.show\n",
    "\n",
    "        #data_BM = BM.gen_data(Nthermalize=1000,Nchains=5,Lchains=10000)\n",
    "        workspace_matlab2 = {'data_BM':data_BM }\n",
    "\n"
   ]
  }
 ],
 "metadata": {
  "kernelspec": {
   "display_name": "Python 2",
   "language": "python",
   "name": "python2"
  },
  "language_info": {
   "codemirror_mode": {
    "name": "ipython",
    "version": 2
   },
   "file_extension": ".py",
   "mimetype": "text/x-python",
   "name": "python",
   "nbconvert_exporter": "python",
   "pygments_lexer": "ipython2",
   "version": "2.7.16"
  }
 },
 "nbformat": 4,
 "nbformat_minor": 2
}
